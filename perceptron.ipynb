{
  "nbformat": 4,
  "nbformat_minor": 0,
  "metadata": {
    "colab": {
      "name": "perceptron.ipynb",
      "provenance": [],
      "authorship_tag": "ABX9TyNvQf48B8seZD/YKxLmrjoP",
      "include_colab_link": true
    },
    "kernelspec": {
      "name": "python3",
      "display_name": "Python 3"
    },
    "language_info": {
      "name": "python"
    }
  },
  "cells": [
    {
      "cell_type": "markdown",
      "metadata": {
        "id": "view-in-github",
        "colab_type": "text"
      },
      "source": [
        "<a href=\"https://colab.research.google.com/github/dipshii/deep_learninglab/blob/main/perceptron.ipynb\" target=\"_parent\"><img src=\"https://colab.research.google.com/assets/colab-badge.svg\" alt=\"Open In Colab\"/></a>"
      ]
    },
    {
      "cell_type": "code",
      "metadata": {
        "id": "_ME7I2uYq3sV"
      },
      "source": [
        "import numpy as np\n",
        "import matplotlib.pyplot as plt\n",
        "import tqdm"
      ],
      "execution_count": 1,
      "outputs": []
    },
    {
      "cell_type": "code",
      "metadata": {
        "id": "5P3ULj5Bq9Wj"
      },
      "source": [
        "# Transfer/Activation Functions\n",
        "def step(x):\n",
        "  return x >= 0"
      ],
      "execution_count": 2,
      "outputs": []
    },
    {
      "cell_type": "code",
      "metadata": {
        "id": "3xTWznJorFGY"
      },
      "source": [
        "class Perceptron:\n",
        "  def __init__(self,features=1, alpha=0.1, bias=np.random.normal(loc=0.0,scale=0.01), weights=None, activation=step):\n",
        "    if weights is None:\n",
        "      self.weights=np.random.normal(loc=0.0, scale=0.01, size=features).transpose()\n",
        "    else: self.weights = weights \n",
        "    self.activation = activation\n",
        "    self.alpha = alpha\n",
        "    self.bias=bias\n",
        "    self.features = features\n",
        "\n",
        "  def __predict(self, inputn): # Private Function\n",
        "    # implement prediction of 1 instance\n",
        "    if self.features is 1:\n",
        "      return self.activation(self.weights*inputn + self.bias)[0]\n",
        "    else:\n",
        "     return self.activation(self.weights.dot(inputn.transpose()) + self.bias)\n",
        "    \n",
        "      \n",
        "      \n",
        "  def cost(self, inputn, outputn ):\n",
        "    # Implement the cost function\n",
        "    return self.__predict(inputn) - outputn\n",
        "  def predict(self, inputs):\n",
        "      if self.features is 1:\n",
        "        return self.activation(self.weights*(inputs) + self.bias)\n",
        "      else:\n",
        "        return self.activation(self.weights.dot(inputs.transpose()) + self.bias)\n",
        "      \n",
        "        \n",
        "  \n",
        "\n",
        "  def train(self, inputs, outputs, epochs=1):   \n",
        "    t = tqdm.tqdm(range(epochs))\n",
        "    for epoch in t:\n",
        "      for i, inputn in enumerate(inputs):\n",
        "        delta = self.__predict(inputn) - outputs[i]\n",
        "        t.set_postfix({\"loss\": delta})\n",
        "        #print(delta, inputn, outputs[i], self.weights, self.bias)\n",
        "        self.weight_update(delta, inputn)\n",
        "\n",
        "  \n",
        "  def weight_update(self, delta, inputs):\n",
        "      self.weights = self.weights - self.alpha*delta*(inputs)\n",
        "      self.bias = self.bias - self.alpha*delta\n",
        "      #print(self.weights, self.bias)"
      ],
      "execution_count": 3,
      "outputs": []
    },
    {
      "cell_type": "code",
      "metadata": {
        "id": "-Sq-hOqCrPlZ"
      },
      "source": [
        "perceptron=Perceptron(features=2) # Single Perceptron"
      ],
      "execution_count": 4,
      "outputs": []
    },
    {
      "cell_type": "code",
      "metadata": {
        "id": "8WVDmVn1rWHg"
      },
      "source": [
        "# Input output for AND Gate\n",
        "X = np.array([[0,0],\n",
        "              [0,1],\n",
        "              [1,0],\n",
        "              [1,1]\n",
        "              ])\n",
        "Y = np.array([0,\n",
        "              0,\n",
        "              0,\n",
        "              1\n",
        "              ])"
      ],
      "execution_count": 5,
      "outputs": []
    },
    {
      "cell_type": "code",
      "metadata": {
        "colab": {
          "base_uri": "https://localhost:8080/",
          "height": 268
        },
        "id": "CcVF7l3RrarG",
        "outputId": "a601f0e9-3569-4def-865b-7ea2c26650b7"
      },
      "source": [
        "\n",
        "x=np.linspace(-0.5, 1.5, 200)\n",
        "\n",
        "xx, yy = np.meshgrid(x, x)\n",
        "Z = perceptron.predict(np.array([xx.ravel(),yy.ravel()]).T)\n",
        "\n",
        "plt.contourf(xx, yy, Z.reshape(xx.shape), levels=1)\n",
        "plt.scatter(X[:,0],X[:,1])\n",
        "plt.xlim([-0.5,1.5])\n",
        "plt.ylim([-0.5,1.5])\n",
        "plt.colorbar();"
      ],
      "execution_count": 6,
      "outputs": [
        {
          "output_type": "display_data",
          "data": {
            "image/png": "[encoded data removed]",
            "text/plain": [
              "<Figure size 432x288 with 2 Axes>"
            ]
          },
          "metadata": {
            "tags": [],
            "needs_background": "light"
          }
        }
      ]
    },
    {
      "cell_type": "code",
      "metadata": {
        "colab": {
          "base_uri": "https://localhost:8080/"
        },
        "id": "gYohVGSPrgDp",
        "outputId": "8057b27a-46ae-460a-f25c-534a6b40cee5"
      },
      "source": [
        "\n",
        "perceptron.predict(X)"
      ],
      "execution_count": 7,
      "outputs": [
        {
          "output_type": "execute_result",
          "data": {
            "text/plain": [
              "array([False,  True, False, False])"
            ]
          },
          "metadata": {
            "tags": []
          },
          "execution_count": 7
        }
      ]
    },
    {
      "cell_type": "code",
      "metadata": {
        "colab": {
          "base_uri": "https://localhost:8080/"
        },
        "id": "0ESKLWNXrkia",
        "outputId": "6be8336c-aaa7-4911-8982-77ed4268cad5"
      },
      "source": [
        "perceptron.train(X,Y,epochs=20)"
      ],
      "execution_count": 8,
      "outputs": [
        {
          "output_type": "stream",
          "text": [
            "100%|██████████| 20/20 [00:00<00:00, 75.88it/s, loss=0]\n"
          ],
          "name": "stderr"
        }
      ]
    },
    {
      "cell_type": "code",
      "metadata": {
        "colab": {
          "base_uri": "https://localhost:8080/",
          "height": 268
        },
        "id": "GJkocKloroav",
        "outputId": "853b84e9-d04a-4c7b-fb27-2da420c857c7"
      },
      "source": [
        "x=np.linspace(-0.5, 1.5, 200)\n",
        "\n",
        "xx, yy = np.meshgrid(x, x)\n",
        "Z = perceptron.predict(np.array([xx.ravel(),yy.ravel()]).T)\n",
        "\n",
        "plt.contourf(xx, yy, Z.reshape(xx.shape), levels=1)\n",
        "plt.scatter(X[:,0],X[:,1])\n",
        "plt.xlim([-0.5,1.5])\n",
        "plt.ylim([-0.5,1.5])\n",
        "plt.colorbar();"
      ],
      "execution_count": 9,
      "outputs": [
        {
          "output_type": "display_data",
          "data": {
            "image/png": "[encoded data removed]",
            "text/plain": [
              "<Figure size 432x288 with 2 Axes>"
            ]
          },
          "metadata": {
            "tags": [],
            "needs_background": "light"
          }
        }
      ]
    },
    {
      "cell_type": "code",
      "metadata": {
        "colab": {
          "base_uri": "https://localhost:8080/"
        },
        "id": "kFtlhxB2rs5r",
        "outputId": "4fd765fc-d3d1-421a-a18e-455f80e9ecf2"
      },
      "source": [
        "perceptron.predict(X)"
      ],
      "execution_count": 10,
      "outputs": [
        {
          "output_type": "execute_result",
          "data": {
            "text/plain": [
              "array([False, False, False,  True])"
            ]
          },
          "metadata": {
            "tags": []
          },
          "execution_count": 10
        }
      ]
    },
    {
      "cell_type": "code",
      "metadata": {
        "id": "sQ5PizuBrwjQ"
      },
      "source": [
        "\n",
        "# Input output for AND Gate\n",
        "X = np.array([[0,0],\n",
        "              [0,1],\n",
        "              [1,0],\n",
        "              [1,1]\n",
        "              ])\n",
        "Y = np.array([1,\n",
        "              1,\n",
        "              1,\n",
        "              0\n",
        "              ])"
      ],
      "execution_count": 11,
      "outputs": []
    },
    {
      "cell_type": "code",
      "metadata": {
        "id": "Nx04vlgLr0eS"
      },
      "source": [
        "\n",
        "perceptron=Perceptron(features=2)"
      ],
      "execution_count": 12,
      "outputs": []
    },
    {
      "cell_type": "code",
      "metadata": {
        "colab": {
          "base_uri": "https://localhost:8080/",
          "height": 268
        },
        "id": "ztmLCmqXr61t",
        "outputId": "e554c8a5-475e-40b1-ef29-7110116315ab"
      },
      "source": [
        "x=np.linspace(-0.5, 1.5, 200)\n",
        "\n",
        "xx, yy = np.meshgrid(x, x)\n",
        "Z = perceptron.predict(np.array([xx.ravel(),yy.ravel()]).T)\n",
        "\n",
        "plt.contourf(xx, yy, Z.reshape(xx.shape), levels=1)\n",
        "plt.scatter(X[:,0],X[:,1])\n",
        "plt.xlim([-0.5,1.5])\n",
        "plt.ylim([-0.5,1.5])\n",
        "plt.colorbar();"
      ],
      "execution_count": 13,
      "outputs": [
        {
          "output_type": "display_data",
          "data": {
            "image/png": "[encoded data removed]",
            "text/plain": [
              "<Figure size 432x288 with 2 Axes>"
            ]
          },
          "metadata": {
            "tags": [],
            "needs_background": "light"
          }
        }
      ]
    },
    {
      "cell_type": "code",
      "metadata": {
        "colab": {
          "base_uri": "https://localhost:8080/"
        },
        "id": "i1_Ybm0Ar_4k",
        "outputId": "11249a06-324f-453d-dba0-70338d1053b0"
      },
      "source": [
        "\n",
        "perceptron.predict(X)"
      ],
      "execution_count": 14,
      "outputs": [
        {
          "output_type": "execute_result",
          "data": {
            "text/plain": [
              "array([False, False, False, False])"
            ]
          },
          "metadata": {
            "tags": []
          },
          "execution_count": 14
        }
      ]
    },
    {
      "cell_type": "code",
      "metadata": {
        "colab": {
          "base_uri": "https://localhost:8080/"
        },
        "id": "sq-JPShqsJzw",
        "outputId": "c93cfa68-da10-401f-e929-e6efde4f5809"
      },
      "source": [
        "perceptron.train(X,Y,epochs=20)"
      ],
      "execution_count": 15,
      "outputs": [
        {
          "output_type": "stream",
          "text": [
            "100%|██████████| 20/20 [00:00<00:00, 142.95it/s, loss=0]\n"
          ],
          "name": "stderr"
        }
      ]
    },
    {
      "cell_type": "code",
      "metadata": {
        "colab": {
          "base_uri": "https://localhost:8080/",
          "height": 268
        },
        "id": "sh9tJHbSsOIR",
        "outputId": "7444fe07-4106-407f-d5b9-c89a25fabc50"
      },
      "source": [
        "xx, yy = np.meshgrid(x, x)\n",
        "Z = perceptron.predict(np.array([xx.ravel(),yy.ravel()]).T)\n",
        "\n",
        "plt.contourf(xx, yy, Z.reshape(xx.shape), levels=1)\n",
        "plt.scatter(X[:,0],X[:,1])\n",
        "plt.xlim([-0.5,1.5])\n",
        "plt.ylim([-0.5,1.5])\n",
        "plt.colorbar();"
      ],
      "execution_count": 16,
      "outputs": [
        {
          "output_type": "display_data",
          "data": {
            "image/png": "[encoded data removed]",
            "text/plain": [
              "<Figure size 432x288 with 2 Axes>"
            ]
          },
          "metadata": {
            "tags": [],
            "needs_background": "light"
          }
        }
      ]
    },
    {
      "cell_type": "code",
      "metadata": {
        "colab": {
          "base_uri": "https://localhost:8080/"
        },
        "id": "-BtJvyC_sVO7",
        "outputId": "d40e47be-9835-408a-9ef9-3f940830a95d"
      },
      "source": [
        "perceptron.predict(X)"
      ],
      "execution_count": 17,
      "outputs": [
        {
          "output_type": "execute_result",
          "data": {
            "text/plain": [
              "array([ True,  True,  True, False])"
            ]
          },
          "metadata": {
            "tags": []
          },
          "execution_count": 17
        }
      ]
    }
  ]
}
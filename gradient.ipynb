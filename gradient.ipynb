{
  "nbformat": 4,
  "nbformat_minor": 0,
  "metadata": {
    "colab": {
      "name": "gradient.ipynb",
      "provenance": [],
      "authorship_tag": "ABX9TyOBdvC3E5d+rMYfGeGICxXV",
      "include_colab_link": true
    },
    "kernelspec": {
      "name": "python3",
      "display_name": "Python 3"
    },
    "language_info": {
      "name": "python"
    }
  },
  "cells": [
    {
      "cell_type": "markdown",
      "metadata": {
        "id": "view-in-github",
        "colab_type": "text"
      },
      "source": [
        "<a href=\"https://colab.research.google.com/github/dipshii/deep_learninglab/blob/main/gradient.ipynb\" target=\"_parent\"><img src=\"https://colab.research.google.com/assets/colab-badge.svg\" alt=\"Open In Colab\"/></a>"
      ]
    },
    {
      "cell_type": "code",
      "metadata": {
        "id": "OJ_44jE1o8ru"
      },
      "source": [
        "import numpy as np\n",
        "import matplotlib.pyplot as plt"
      ],
      "execution_count": 1,
      "outputs": []
    },
    {
      "cell_type": "code",
      "metadata": {
        "id": "UTd9dGDcppgF"
      },
      "source": [
        "cur_x = 0.7\n",
        "rate = 0.0001\n",
        "precision = 0.00000001\n",
        "previous_step_size = 1\n",
        "max_iters = 20000\n",
        "iters = 0\n",
        "\n",
        "f = lambda x: x**8+x**7+x**6-x**5+x**4-x**3+x**2-x+1              #Function\n",
        "df = lambda x: 8*x**7-7*x**6+6*x**5-5*x**4+4*x**3-3*x**2+2*x-1    #Gradient"
      ],
      "execution_count": 2,
      "outputs": []
    },
    {
      "cell_type": "code",
      "metadata": {
        "colab": {
          "base_uri": "https://localhost:8080/",
          "height": 264
        },
        "id": "ifyxCC3-pxAM",
        "outputId": "467a9e2e-f519-4566-869f-d41918ec10a2"
      },
      "source": [
        "x = np.arange(-1,1,0.0001)\n",
        "plt.plot(x,x**8+x**7+x**6-x**5+x**4-x**3+x**2-x+1)\n",
        "plt.show()"
      ],
      "execution_count": 3,
      "outputs": [
        {
          "output_type": "display_data",
          "data": {
            "image/png": "[encoded data removed]",
            "text/plain": [
              "<Figure size 432x288 with 1 Axes>"
            ]
          },
          "metadata": {
            "tags": [],
            "needs_background": "light"
          }
        }
      ]
    },
    {
      "cell_type": "code",
      "metadata": {
        "colab": {
          "base_uri": "https://localhost:8080/",
          "height": 282
        },
        "id": "9EQ7H4FBp23I",
        "outputId": "2ba73cc7-ee6e-441a-fd01-1cafe07426fc"
      },
      "source": [
        "while previous_step_size > precision and iters < max_iters:\n",
        "  prev_x = cur_x\n",
        "  cur_x = cur_x - rate*df(prev_x)          #Gradient Descent\n",
        "  previous_step_size = abs(cur_x - prev_x)\n",
        "  iters = iters + 1\n",
        "  x = np.arange(-1,1,0.0001)  \n",
        "  \n",
        "plt.plot(x,f(x),'b')\n",
        "plt.plot(cur_x,f(cur_x),'r+')\n",
        "plt.show()\n",
        "print(\"The local minima occures at\",cur_x)"
      ],
      "execution_count": 4,
      "outputs": [
        {
          "output_type": "display_data",
          "data": {
            "image/png": "[encoded data removed]",
            "text/plain": [
              "<Figure size 432x288 with 1 Axes>"
            ]
          },
          "metadata": {
            "tags": [],
            "needs_background": "light"
          }
        },
        {
          "output_type": "stream",
          "text": [
            "The local minima occures at 0.7145126951065868\n"
          ],
          "name": "stdout"
        }
      ]
    }
  ]
}
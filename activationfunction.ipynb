{
  "nbformat": 4,
  "nbformat_minor": 0,
  "metadata": {
    "colab": {
      "name": "activationfunction.ipynb",
      "provenance": [],
      "authorship_tag": "ABX9TyNwXtooAfKHrf38RyjlQCxr",
      "include_colab_link": true
    },
    "kernelspec": {
      "name": "python3",
      "display_name": "Python 3"
    },
    "language_info": {
      "name": "python"
    }
  },
  "cells": [
    {
      "cell_type": "markdown",
      "metadata": {
        "id": "view-in-github",
        "colab_type": "text"
      },
      "source": [
        "<a href=\"https://colab.research.google.com/github/dipshii/deep_learninglab/blob/main/activationfunction.ipynb\" target=\"_parent\"><img src=\"https://colab.research.google.com/assets/colab-badge.svg\" alt=\"Open In Colab\"/></a>"
      ]
    },
    {
      "cell_type": "code",
      "metadata": {
        "colab": {
          "base_uri": "https://localhost:8080/"
        },
        "id": "ck5rmCZzyZTV",
        "outputId": "326dd84f-3ef2-4987-bf58-0fdf63a569dd"
      },
      "source": [
        "import math\n",
        "import matplotlib.pyplot as plt\n",
        "import numpy as np\n",
        "x = np.arange(-5,5,0.5)\n",
        "x"
      ],
      "execution_count": 1,
      "outputs": [
        {
          "output_type": "execute_result",
          "data": {
            "text/plain": [
              "array([-5. , -4.5, -4. , -3.5, -3. , -2.5, -2. , -1.5, -1. , -0.5,  0. ,\n",
              "        0.5,  1. ,  1.5,  2. ,  2.5,  3. ,  3.5,  4. ,  4.5])"
            ]
          },
          "metadata": {
            "tags": []
          },
          "execution_count": 1
        }
      ]
    },
    {
      "cell_type": "code",
      "metadata": {
        "id": "NRat4F-dyfvJ"
      },
      "source": [
        "def linear_activation_funct(x):\n",
        "  ans=[]\n",
        "  for array_element in x:\n",
        "    ans.append(array_element)\n",
        "  return ans"
      ],
      "execution_count": 2,
      "outputs": []
    },
    {
      "cell_type": "code",
      "metadata": {
        "colab": {
          "base_uri": "https://localhost:8080/",
          "height": 264
        },
        "id": "h7FdX_l3yl7S",
        "outputId": "af6adbb5-57c7-4314-8de8-35992e5f087b"
      },
      "source": [
        "\n",
        "y = linear_activation_funct(x)\n",
        "plt.plot(x,y)\n",
        "plt.show()"
      ],
      "execution_count": 3,
      "outputs": [
        {
          "output_type": "display_data",
          "data": {
            "image/png": "[encoded data removed]",
            "text/plain": [
              "<Figure size 432x288 with 1 Axes>"
            ]
          },
          "metadata": {
            "tags": [],
            "needs_background": "light"
          }
        }
      ]
    },
    {
      "cell_type": "code",
      "metadata": {
        "id": "A05lGrpZyq42"
      },
      "source": [
        "def relu_activation_funct(x):\n",
        "  ans=[]\n",
        "  for array_element in x:\n",
        "    if( array_element > 0):\n",
        "      ans.append(array_element)\n",
        "    else:\n",
        "      ans.append(0)\n",
        "  return ans"
      ],
      "execution_count": 4,
      "outputs": []
    },
    {
      "cell_type": "code",
      "metadata": {
        "colab": {
          "base_uri": "https://localhost:8080/",
          "height": 264
        },
        "id": "qhomb4wYyu5e",
        "outputId": "a6902b99-86f6-40ce-eb45-9300e5f3d994"
      },
      "source": [
        "y1 = relu_activation_funct(x)\n",
        "plt.plot(x,y1)\n",
        "plt.show()"
      ],
      "execution_count": 5,
      "outputs": [
        {
          "output_type": "display_data",
          "data": {
            "image/png": "[encoded data removed]",
            "text/plain": [
              "<Figure size 432x288 with 1 Axes>"
            ]
          },
          "metadata": {
            "tags": [],
            "needs_background": "light"
          }
        }
      ]
    },
    {
      "cell_type": "code",
      "metadata": {
        "id": "k9M8mRiGyzES"
      },
      "source": [
        "def sigmoid_activation_funct(x):\n",
        "  ans=[]\n",
        "  for array_element in x:\n",
        "    ans.append(1/(1+np.exp(-array_element)))\n",
        "    \n",
        "  return ans"
      ],
      "execution_count": 6,
      "outputs": []
    },
    {
      "cell_type": "code",
      "metadata": {
        "colab": {
          "base_uri": "https://localhost:8080/",
          "height": 264
        },
        "id": "4uIiqkqLy2-q",
        "outputId": "65ac2dd2-7a3c-4985-9f46-35103a19c595"
      },
      "source": [
        "y2 = sigmoid_activation_funct(x)\n",
        "plt.plot(x,y2)\n",
        "plt.show()"
      ],
      "execution_count": 7,
      "outputs": [
        {
          "output_type": "display_data",
          "data": {
            "image/png": "[encoded data removed]",
            "text/plain": [
              "<Figure size 432x288 with 1 Axes>"
            ]
          },
          "metadata": {
            "tags": [],
            "needs_background": "light"
          }
        }
      ]
    },
    {
      "cell_type": "code",
      "metadata": {
        "id": "YV8lyWDVy6N0"
      },
      "source": [
        "def funct2_approximation(x):\n",
        "  ans=[]\n",
        "  for array_element in x:\n",
        "    n1 = relu(-5*array_element -7.7)\n",
        "    n2 = relu(-1.2*array_element -1.3)\n",
        "    n3 = relu(1.2*array_element + 1)\n",
        "    n4 = relu(1.2*array_element -.2)\n",
        "    n5 = relu(2*array_element -1.1)\n",
        "    n6 = relu(5*array_element - 5)\n",
        "    z = -n1 -n2 -n3 +n4 +n5 +n6\n",
        "    ans.append(z)\n",
        "  return ans\n",
        "\n",
        "def relu(x):\n",
        "  return( np.maximum(x,0))"
      ],
      "execution_count": 10,
      "outputs": []
    },
    {
      "cell_type": "code",
      "metadata": {
        "colab": {
          "base_uri": "https://localhost:8080/",
          "height": 264
        },
        "id": "4jvm7f-Yzayb",
        "outputId": "3d036358-06a9-41a6-9511-bca91ff7f24b"
      },
      "source": [
        "x = np.arange(-2,2,.2)\n",
        "y5 = funct2_approximation(x)\n",
        "plt.plot(x,y5)\n",
        "plt.show()"
      ],
      "execution_count": 11,
      "outputs": [
        {
          "output_type": "display_data",
          "data": {
            "image/png": "[encoded data removed]",
            "text/plain": [
              "<Figure size 432x288 with 1 Axes>"
            ]
          },
          "metadata": {
            "tags": [],
            "needs_background": "light"
          }
        }
      ]
    }
  ]
}
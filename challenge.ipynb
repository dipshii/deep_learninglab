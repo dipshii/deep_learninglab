{
  "nbformat": 4,
  "nbformat_minor": 0,
  "metadata": {
    "colab": {
      "name": "challenge.ipynb",
      "provenance": [],
      "collapsed_sections": []
    },
    "kernelspec": {
      "name": "python3",
      "display_name": "Python 3"
    },
    "language_info": {
      "name": "python"
    }
  },
  "cells": [
    {
      "cell_type": "markdown",
      "source": [
        "converting degree to radian"
      ],
      "metadata": {
        "id": "amz7EXQLiZJM"
      }
    },
    {
      "cell_type": "code",
      "execution_count": 4,
      "metadata": {
        "colab": {
          "base_uri": "https://localhost:8080/"
        },
        "id": "ngUms79liKkE",
        "outputId": "628af10b-f5d8-40b2-972f-1d3fdd14b4e5"
      },
      "outputs": [
        {
          "name": "stdout",
          "output_type": "stream",
          "text": [
            "input your radian1\n"
          ]
        },
        {
          "output_type": "execute_result",
          "data": {
            "text/plain": [
              "57.324840764331206"
            ]
          },
          "metadata": {},
          "execution_count": 4
        }
      ],
      "source": [
        "rad=int(input(\"input your radian\"))\n",
        "#converting the radian into degrees\n",
        "def degree(rad):\n",
        "  convert=rad*(180/3.14)\n",
        "  return convert\n",
        "degree(rad)  \n",
        "\n",
        "\n"
      ]
    },
    {
      "cell_type": "markdown",
      "source": [
        "import math\n"
      ],
      "metadata": {
        "id": "p1HtTdb0jmSd"
      }
    },
    {
      "cell_type": "code",
      "source": [
        "import math\n",
        "\n"
      ],
      "metadata": {
        "id": "1YHNagfhj2eb"
      },
      "execution_count": null,
      "outputs": []
    },
    {
      "cell_type": "code",
      "execution_count": 5,
      "metadata": {
        "colab": {
          "base_uri": "https://localhost:8080/"
        },
        "outputId": "47c222cf-9c6a-4772-b7ab-c68ae2311b3d",
        "id": "iPeNqLeEj6Hi"
      },
      "outputs": [
        {
          "name": "stdout",
          "output_type": "stream",
          "text": [
            "input your radian1\n"
          ]
        },
        {
          "output_type": "execute_result",
          "data": {
            "text/plain": [
              "57.29577951308232"
            ]
          },
          "metadata": {},
          "execution_count": 5
        }
      ],
      "source": [
        "import math\n",
        "rad=int(input(\"input your radian\"))\n",
        "#converting the radian into degrees\n",
        "def degree(rad):\n",
        "  convert=rad*(180/math.pi)\n",
        "  return convert\n",
        "degree(rad)  \n",
        "\n",
        "\n"
      ]
    },
    {
      "cell_type": "code",
      "source": [
        "# To convert in binary\n",
        "decimal=int(input(\"enter the decimal value\"))\n",
        "def binary(decimal):\n",
        "  if(decimal>=1):\n",
        "    binary(decimal//2)\n",
        "    print(decimal%2,end='')\n",
        "binary(decimal)    \n",
        "\n",
        "    \n",
        "\n",
        "\n"
      ],
      "metadata": {
        "colab": {
          "base_uri": "https://localhost:8080/"
        },
        "id": "szo8LM1WkFxK",
        "outputId": "88c2b63e-42be-4fc0-fd07-e848d9699a7a"
      },
      "execution_count": 11,
      "outputs": [
        {
          "output_type": "stream",
          "name": "stdout",
          "text": [
            "enter the decimal value2\n",
            "10"
          ]
        }
      ]
    },
    {
      "cell_type": "code",
      "source": [
        "#give me the discount\n",
        "amm=int(input(\"enter the ammount\"))\n",
        "discount=int(input(\"enter the discount you want\"))\n",
        "def disc(amm,discount):\n",
        "  amm1=amm*(discount/100)\n",
        "  amm=amm-amm1\n",
        "  return amm\n",
        "disc(amm,discount)  \n",
        "\n"
      ],
      "metadata": {
        "colab": {
          "base_uri": "https://localhost:8080/"
        },
        "id": "zN4Bbr5DoB1V",
        "outputId": "5816f73f-4e76-4880-a0a7-686db4aeceb1"
      },
      "execution_count": 12,
      "outputs": [
        {
          "name": "stdout",
          "output_type": "stream",
          "text": [
            "enter the ammount1000\n",
            "enter the discount you want20\n"
          ]
        },
        {
          "output_type": "execute_result",
          "data": {
            "text/plain": [
              "800.0"
            ]
          },
          "metadata": {},
          "execution_count": 12
        }
      ]
    },
    {
      "cell_type": "code",
      "source": [
        "#count the vowels\n",
        "vowels='aeiou'\n",
        "string=input(\"enter the string'\\n\")\n",
        "def vowel(string,vowels):\n",
        "  string=string.casefold()\n",
        "  count={}.fromkeys(vowels,0)\n",
        "  for character in string:\n",
        "        if character in count:\n",
        "\n",
        "          count[character] += 1   \n",
        "          return count\n",
        "vowel(string,vowels)\n"
      ],
      "metadata": {
        "colab": {
          "base_uri": "https://localhost:8080/"
        },
        "id": "VUS980FIqHCT",
        "outputId": "71aed08e-31d7-49de-8374-8ce0325a6680"
      },
      "execution_count": 17,
      "outputs": [
        {
          "name": "stdout",
          "output_type": "stream",
          "text": [
            "enter the string'\n",
            "lktokeojypte\n"
          ]
        },
        {
          "output_type": "execute_result",
          "data": {
            "text/plain": [
              "{'a': 0, 'e': 0, 'i': 0, 'o': 1, 'u': 0}"
            ]
          },
          "metadata": {},
          "execution_count": 17
        }
      ]
    },
    {
      "cell_type": "code",
      "source": [
        "#sort the list\n",
        "def sortlist(li,ascdesc):\n",
        "    new_list = li[:]\n",
        "    if ascdesc == 'asc':\n",
        "        new_list.sort()\n",
        "        return new_list\n",
        "    elif ascdesc == 'desc':\n",
        "        new_list = li[:]\n",
        "        new_list.sort(reverse=True)\n",
        "        return new_list\n",
        "    else:\n",
        "        return new_list\n",
        "li = [2,1,5,82,3,7,21,4,7,1]\n",
        "print(sortlist(li,'asc'))\n",
        "print(sortlist(li,'desc'))\n",
        "print(sortlist(li,'none'))"
      ],
      "metadata": {
        "colab": {
          "base_uri": "https://localhost:8080/"
        },
        "id": "UEuZnrByttAe",
        "outputId": "c0b6d32e-427e-48c8-e218-dea3090f4666"
      },
      "execution_count": 18,
      "outputs": [
        {
          "output_type": "stream",
          "name": "stdout",
          "text": [
            "[1, 1, 2, 3, 4, 5, 7, 7, 21, 82]\n",
            "[82, 21, 7, 7, 5, 4, 3, 2, 1, 1]\n",
            "[2, 1, 5, 82, 3, 7, 21, 4, 7, 1]\n"
          ]
        }
      ]
    }
  ]
}